{
 "cells": [
  {
   "cell_type": "markdown",
   "metadata": {},
   "source": [
    "## Test -> Video mit P-Houghfunktion"
   ]
  },
  {
   "cell_type": "code",
   "execution_count": 9,
   "metadata": {},
   "outputs": [],
   "source": [
    "import numpy as np\n",
    "import cv2 as cv\n",
    "import matplotlib.pylab as plt\n",
    "from basisklassen_cam import Camera\n",
    "import time\n",
    "\n",
    "\n",
    "def draw_line_segments(line_segments,img):\n",
    "    img2 = img.copy()\n",
    "    img2 = cv.cvtColor(img2, cv.COLOR_GRAY2RGB)\n",
    "    for line in line_segments:\n",
    "        x1,y1,x2,y2 = line[0]\n",
    "        #print(y1,y2,x2,x1)\n",
    "        cv.line(img2,(x1,y1),(x2,y2),(200,100,100),3)\n",
    "    return img2\n",
    "\n",
    "\n",
    "cam = Camera()\n",
    "lower = np.array([90, 0, 0])\n",
    "upper = np.array([125, 255, 255])\n",
    "rho = 1              # distance precision in pixel, i.e. 1 pixel\n",
    "angle = np.pi / 180  # angular precision in radian, i.e. 1 degree\n",
    "min_threshold = 225   # in etwas Anzal der Punkt auf der Geraden. Je geringer Min_threshold, desto mehr Geraden werden erkannt.\n",
    "minLineLength = 10    # Minimale Linienlänge\n",
    "maxLineGap = 4       # Maximale Anzahl von Lücken in der Linie\n",
    "\n",
    "while True:\n",
    "    img = cam.get_frame() \n",
    "    img_cut = img[135:400,75:600].copy()\n",
    "    img_cut_HSV = cv.cvtColor(img_cut,cv.COLOR_BGR2HSV) \n",
    "    \n",
    "    image_mask = cv.inRange(img_cut_HSV, lower, upper)\n",
    "    image_edges = cv.Canny(image_mask,200,400)\n",
    "    line_segments = cv.HoughLinesP(image_mask, rho, angle, min_threshold, np.array([]), minLineLength=minLineLength, maxLineGap=maxLineGap)\n",
    "    line_segments[:2]\n",
    "\n",
    "    imageresult = draw_line_segments(line_segments,image_mask)\n",
    "    \n",
    "    cv.imshow(\"Display window (press q to quit)\", imageresult)\n",
    "    # Ende bei Drücken der Taste q\n",
    "    if cv.waitKey(1) == ord('q'):\n",
    "        break\n",
    "    time.sleep(0.3)\n",
    "# Kamera-Objekt muss \"released\" werden, um \"später\" ein neues Kamera-Objekt erstellen zu können!!!\n",
    "cam.release()\n",
    "cv.destroyAllWindows()"
   ]
  },
  {
   "cell_type": "code",
   "execution_count": null,
   "metadata": {},
   "outputs": [],
   "source": [
    "# als nächstes für jedes x und y in hough-p die meanwerte ermitteln\n",
    "# und als Gerade einzeichnen"
   ]
  }
 ],
 "metadata": {
  "kernelspec": {
   "display_name": "Python 3",
   "language": "python",
   "name": "python3"
  },
  "language_info": {
   "codemirror_mode": {
    "name": "ipython",
    "version": 3
   },
   "file_extension": ".py",
   "mimetype": "text/x-python",
   "name": "python",
   "nbconvert_exporter": "python",
   "pygments_lexer": "ipython3",
   "version": "3.7.3"
  },
  "orig_nbformat": 4
 },
 "nbformat": 4,
 "nbformat_minor": 2
}
