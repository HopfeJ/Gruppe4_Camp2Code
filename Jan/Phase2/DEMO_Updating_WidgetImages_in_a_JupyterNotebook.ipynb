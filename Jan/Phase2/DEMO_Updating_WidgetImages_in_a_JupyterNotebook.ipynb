{
 "cells": [
  {
   "cell_type": "code",
   "execution_count": 8,
   "id": "cce043d1-ca8e-4862-a547-c4b7cf0ccb19",
   "metadata": {
    "tags": []
   },
   "outputs": [],
   "source": [
    "import numpy as np\n",
    "# from cv2 import putText,imencode,FONT_HERSHEY_SIMPLEX,LINE_4,resize, Canny, addWEight\n",
    "import cv2\n",
    "import time\n",
    "import threading\n",
    "import os\n",
    "# append system.path with the folder containing basisklassen_cam,.py\n",
    "import sys\n",
    "sys.path.append('./../Software')\n",
    "from basisklassen_cam import Camera"
   ]
  },
  {
   "cell_type": "code",
   "execution_count": 9,
   "id": "a7216467",
   "metadata": {
    "tags": []
   },
   "outputs": [],
   "source": [
    "import ipywidgets as widgets\n",
    "from IPython.display import display"
   ]
  },
  {
   "cell_type": "markdown",
   "id": "1bd033b9-6d67-4fec-b33c-6d745330ddcd",
   "metadata": {
    "tags": []
   },
   "source": [
    "## Einfache Verwendung von widget.Image\n",
    "\n",
    "In diesem Fall wird demonstriert wie ein Bild als NumPy-Array einem Objekt vom Type `Image` übergeben wird."
   ]
  },
  {
   "cell_type": "code",
   "execution_count": 10,
   "id": "e81e63a7",
   "metadata": {
    "tags": []
   },
   "outputs": [
    {
     "data": {
      "application/vnd.jupyter.widget-view+json": {
       "model_id": "393b907ea7224bd982aa0d21fa2f8054",
       "version_major": 2,
       "version_minor": 0
      },
      "text/plain": [
       "Image(value=b'\\xff\\xd8\\xff\\xe0\\x00\\x10JFIF\\x00\\x01\\x01\\x00\\x00\\x01\\x00\\x01\\x00\\x00\\xff\\xdb\\x00C\\x00\\x02\\x01\\x0…"
      ]
     },
     "metadata": {},
     "output_type": "display_data"
    }
   ],
   "source": [
    "img = cv2.imread('squirrel.jfif')\n",
    "_, img_jpg = cv2.imencode('.jpeg', img)\n",
    "img_jpg_bytes = img_jpg.tobytes()\n",
    "image = widgets.Image(value=img_jpg_bytes)\n",
    "display(image)\n",
    "#"
   ]
  },
  {
   "cell_type": "markdown",
   "id": "e8ac8d9f",
   "metadata": {},
   "source": [
    "In einer Schleife kann dieses Bild ständig aktualisiert werden. Der Beispielcode wird endlos ausgeführt. Zur Beendigung muss die Ausführung der Zelle beendet werden. Geben Sie danach auch die Kamera frei!"
   ]
  },
  {
   "cell_type": "code",
   "execution_count": 15,
   "id": "600333f1",
   "metadata": {},
   "outputs": [
    {
     "name": "stderr",
     "output_type": "stream",
     "text": [
      "[ WARN:0] global ../opencv/modules/videoio/src/cap_v4l.cpp (890) open VIDEOIO(V4L2:/dev/video0): can't open camera by index\n"
     ]
    }
   ],
   "source": [
    "cam = Camera()\n",
    "cam.release()"
   ]
  },
  {
   "cell_type": "code",
   "execution_count": 16,
   "id": "3471c1c6-bf0b-4d91-a1a1-3da3929042f6",
   "metadata": {
    "tags": []
   },
   "outputs": [
    {
     "name": "stdout",
     "output_type": "stream",
     "text": [
      "(0, 0)\n"
     ]
    },
    {
     "name": "stderr",
     "output_type": "stream",
     "text": [
      "[ WARN:0] global ../opencv/modules/videoio/src/cap_v4l.cpp (890) open VIDEOIO(V4L2:/dev/video0): can't open camera by index\n"
     ]
    },
    {
     "data": {
      "application/vnd.jupyter.widget-view+json": {
       "model_id": "86ee03046d6248a0beee9fff1d5da811",
       "version_major": 2,
       "version_minor": 0
      },
      "text/plain": [
       "Image(value=b'')"
      ]
     },
     "metadata": {},
     "output_type": "display_data"
    },
    {
     "ename": "Exception",
     "evalue": "Could not open video device",
     "output_type": "error",
     "traceback": [
      "\u001b[0;31m---------------------------------------------------------------------------\u001b[0m",
      "\u001b[0;31mException\u001b[0m                                 Traceback (most recent call last)",
      "\u001b[0;32m/tmp/ipykernel_5649/3834133689.py\u001b[0m in \u001b[0;36m<module>\u001b[0;34m\u001b[0m\n\u001b[1;32m      8\u001b[0m \u001b[0;31m# Schleife aktualisiert Image\u001b[0m\u001b[0;34m\u001b[0m\u001b[0;34m\u001b[0m\u001b[0;34m\u001b[0m\u001b[0m\n\u001b[1;32m      9\u001b[0m \u001b[0;32mwhile\u001b[0m \u001b[0;32mTrue\u001b[0m\u001b[0;34m:\u001b[0m\u001b[0;34m\u001b[0m\u001b[0;34m\u001b[0m\u001b[0m\n\u001b[0;32m---> 10\u001b[0;31m     \u001b[0mframe\u001b[0m \u001b[0;34m=\u001b[0m \u001b[0mcam\u001b[0m\u001b[0;34m.\u001b[0m\u001b[0mget_frame\u001b[0m\u001b[0;34m(\u001b[0m\u001b[0;34m)\u001b[0m\u001b[0;34m\u001b[0m\u001b[0;34m\u001b[0m\u001b[0m\n\u001b[0m\u001b[1;32m     11\u001b[0m     \u001b[0m_\u001b[0m\u001b[0;34m,\u001b[0m \u001b[0mjpg\u001b[0m \u001b[0;34m=\u001b[0m \u001b[0mcv2\u001b[0m\u001b[0;34m.\u001b[0m\u001b[0mimencode\u001b[0m\u001b[0;34m(\u001b[0m\u001b[0;34m'.jpeg'\u001b[0m\u001b[0;34m,\u001b[0m \u001b[0mframe\u001b[0m\u001b[0;34m)\u001b[0m\u001b[0;34m\u001b[0m\u001b[0;34m\u001b[0m\u001b[0m\n\u001b[1;32m     12\u001b[0m     \u001b[0mimage\u001b[0m\u001b[0;34m.\u001b[0m\u001b[0mvalue\u001b[0m \u001b[0;34m=\u001b[0m \u001b[0mjpg\u001b[0m\u001b[0;34m.\u001b[0m\u001b[0mtobytes\u001b[0m\u001b[0;34m(\u001b[0m\u001b[0;34m)\u001b[0m\u001b[0;34m\u001b[0m\u001b[0;34m\u001b[0m\u001b[0m\n",
      "\u001b[0;32m~/Gruppe4_Camp2Code/Jan/Phase2/basisklassen_cam.py\u001b[0m in \u001b[0;36mget_frame\u001b[0;34m(self)\u001b[0m\n\u001b[1;32m     72\u001b[0m         \"\"\"\n\u001b[1;32m     73\u001b[0m         \u001b[0;32mif\u001b[0m \u001b[0;32mnot\u001b[0m \u001b[0mself\u001b[0m\u001b[0;34m.\u001b[0m\u001b[0m__VideoCapture\u001b[0m\u001b[0;34m.\u001b[0m\u001b[0misOpened\u001b[0m\u001b[0;34m(\u001b[0m\u001b[0;34m)\u001b[0m\u001b[0;34m:\u001b[0m\u001b[0;34m\u001b[0m\u001b[0;34m\u001b[0m\u001b[0m\n\u001b[0;32m---> 74\u001b[0;31m             \u001b[0;32mraise\u001b[0m \u001b[0mException\u001b[0m\u001b[0;34m(\u001b[0m\u001b[0;34m\"Could not open video device\"\u001b[0m\u001b[0;34m)\u001b[0m\u001b[0;34m\u001b[0m\u001b[0;34m\u001b[0m\u001b[0m\n\u001b[0m\u001b[1;32m     75\u001b[0m         \u001b[0;32melse\u001b[0m\u001b[0;34m:\u001b[0m\u001b[0;34m\u001b[0m\u001b[0;34m\u001b[0m\u001b[0m\n\u001b[1;32m     76\u001b[0m             \u001b[0;32mif\u001b[0m \u001b[0mself\u001b[0m\u001b[0;34m.\u001b[0m\u001b[0m__skip_frame\u001b[0m\u001b[0;34m:\u001b[0m\u001b[0;34m\u001b[0m\u001b[0;34m\u001b[0m\u001b[0m\n",
      "\u001b[0;31mException\u001b[0m: Could not open video device"
     ]
    }
   ],
   "source": [
    "\n",
    "# Verwendung der Kamera uas basisklassen_cam.py\n",
    "cam = Camera(width=64*3, height=48*3) # Erstellen der Kamera\n",
    "print(cam.get_size())\n",
    "#cam.release()\n",
    "image = widgets.Image()            # Erstellen eines Widgets Image\n",
    "display(image)                     # Anzeigen des Widgets\n",
    "\n",
    "# Schleife aktualisiert Image\n",
    "while True:\n",
    "    frame = cam.get_frame()\n",
    "    _, jpg = cv2.imencode('.jpeg', frame)\n",
    "    image.value = jpg.tobytes()\n",
    "    if  ord() == ord('q'):\n",
    "        break\n",
    "\n",
    "cam.release()"
   ]
  },
  {
   "cell_type": "code",
   "execution_count": null,
   "id": "6182755b-2fee-41be-861a-d56a4e418be9",
   "metadata": {
    "tags": []
   },
   "outputs": [],
   "source": [
    "cam.release()"
   ]
  },
  {
   "cell_type": "code",
   "execution_count": null,
   "id": "dbffe716-4cab-40cd-9d3a-20f73ee76174",
   "metadata": {
    "tags": []
   },
   "outputs": [],
   "source": [
    "image.close()"
   ]
  },
  {
   "cell_type": "markdown",
   "id": "eb5ce63c-2216-46d4-9f9e-68d4eb256898",
   "metadata": {},
   "source": [
    "## Verwendung eines Threads für das Aktualisieren des Bildes\n",
    "Dies erlaubt die Verwendung z.B. eines Umschalters (Toggle) zur Beendigung der Darstellung. Ohne die Verwendung der Thread wird der Event des Umschaltens nicht erkannt."
   ]
  },
  {
   "cell_type": "code",
   "execution_count": null,
   "id": "821de4b2-fd0f-431f-b5ec-7d839b9353c9",
   "metadata": {
    "tags": []
   },
   "outputs": [],
   "source": [
    "image = widgets.Image()\n",
    "stopButton = widgets.ToggleButton(value=True,description='Stop',disabled=False,icon='stop')\n",
    "display(image,stopButton)\n",
    "cam = Camera(height = 38*5, width = 64*5)\n",
    "\n",
    "def threadFunc():\n",
    "    while stopButton.value:\n",
    "        try: #Es soll sichergestellt werden das der Thread beendet wird!\n",
    "            frame = cam.get_frame()\n",
    "            _, jpg = cv2.imencode('.jpeg', frame)\n",
    "            image.value = jpg.tobytes()\n",
    "        except:\n",
    "            print('Thread cancelled by exception!')\n",
    "            break\n",
    "    image.close()\n",
    "    stopButton.close()\n",
    "    cam.release()\n",
    "\n",
    "thread = threading.Thread(target = threadFunc)\n",
    "thread.start()"
   ]
  },
  {
   "cell_type": "markdown",
   "id": "b474e41f-d084-47d4-a336-648c503e7747",
   "metadata": {},
   "source": [
    "## Ein Beispielwidget"
   ]
  },
  {
   "cell_type": "code",
   "execution_count": null,
   "id": "57ba689b-874e-46b0-a1c8-7ce2736dad33",
   "metadata": {
    "tags": []
   },
   "outputs": [],
   "source": [
    "# Widget erlaubt die Anzeige eines Bildes/Live-Streams in einer Output-Zelle\n",
    "# Dem Widget werden zwei Funktionen übergeben. Diese Funktionen müssen Numpy-Arrays zurückgeben, welche Bilder darstellen.\n",
    "# Im Widget wird ein Thread gestartet, welcher in einer Schleife diese Funktionen kontinuiertlich aufruft und so die Bilder im Widget aktualisiert.\n",
    "# Dieses Widget ist bewusst nicht direkt an eine Kamera gebunden, sondern nur an die zwei besagten Funktionen, welche Bilder zurückgeben.\n",
    " \n",
    "class Display:\n",
    "    def __init__(self, frameFuncA = None, frameFuncB = None, textFunc = None, size=(240,320),scalingFactor=1):\n",
    "        self.imageSize=(int(size[1]*scalingFactor),int(size[0]*scalingFactor))\n",
    "        self.getFrameA = frameFuncA\n",
    "        self.getFrameB = frameFuncB\n",
    "        self.textFunc = textFunc\n",
    "        #Elements\n",
    "        self.emptyFrameAsJpegBytes = cv2.imencode('.jpeg',np.ones((self.imageSize[1],self.imageSize[0],3))*200)[1].tobytes()\n",
    "        self.imageA = widgets.Image(value = self.emptyFrameAsJpegBytes)\n",
    "        self.imageB = widgets.Image(value = self.emptyFrameAsJpegBytes)\n",
    "        #self.output = widgets.Output()\n",
    "        self.text = widgets.Text(\n",
    "                value='',\n",
    "                description = 'Info:',\n",
    "                disabled=False,\n",
    "                width='auto'\n",
    "        )\n",
    "        self.stopButton = widgets.ToggleButton(\n",
    "            value=True,\n",
    "            description='Pause',\n",
    "            disabled=False,\n",
    "            icon='pause' \n",
    "        )\n",
    "        def observe_stopButton(change):\n",
    "            print(change)\n",
    "            if self.stopButton.value == False:\n",
    "                self.stopButton.description = 'Play'\n",
    "                self.stopButton.icon = 'play'\n",
    "            else: \n",
    "                self.stopButton.description = 'Pause'\n",
    "                self.stopButton.icon = 'pause'\n",
    "        self.stopButton.observe(observe_stopButton)\n",
    "        self.closeButton = widgets.ToggleButton(\n",
    "            value=True,\n",
    "            description='Close Display',\n",
    "            disabled=False,\n",
    "            icon='times-circle'\n",
    "        )\n",
    "        def observe_closeButton(change):\n",
    "            self.close()\n",
    "        self.closeButton.observe(observe_closeButton)\n",
    "\n",
    "        #Layout\n",
    "        buttons = [\n",
    "                    self.stopButton,\n",
    "                    self.closeButton,\n",
    "                ]\n",
    "        if self.textFunc:\n",
    "            buttons.append(self.text)\n",
    "        self.layout = widgets.VBox([\n",
    "            widgets.HBox([\n",
    "                    widgets.HTML(value=\"<b>Display</b> {}\".format(str(self.imageSize))),\n",
    "                ]), \n",
    "            widgets.HBox([\n",
    "                widgets.VBox([\n",
    "                    widgets.HTML(value=\"<b>Frame A</b>\"),\n",
    "                    self.imageA,\n",
    "                ]),\n",
    "                widgets.VBox([\n",
    "                    widgets.HTML(value=\"<b>Frame B</b>\"),\n",
    "                    self.imageB,\n",
    "                ]),                     \n",
    "            ]),\n",
    "            widgets.HBox(buttons), \n",
    "            ])\n",
    "        display(self.layout)\n",
    "        self.thread = threading.Thread(target=self.run)\n",
    "        self.start()\n",
    "\n",
    "    def run(self):\n",
    "        while self.flag:\n",
    "            try:\n",
    "                if self.stopButton.value==True:\n",
    "                    if self.getFrameA is not None: \n",
    "                        frame = self.getFrameA()\n",
    "                        frame = cv2.resize(frame, self.imageSize, 0)#interpolation = cv2.INTER_AREA)\n",
    "                        _, jpg = cv2.imencode('.jpeg', frame)\n",
    "                        self.imageA.value=jpg.tobytes()\n",
    "                    if self.getFrameB is not None: \n",
    "                        frame = self.getFrameB()\n",
    "                        frame = cv2.resize(frame, self.imageSize, 0)# interpolation = cv2.INTER_AREA)\n",
    "                        _, jpg = cv2.imencode('.jpeg', frame)\n",
    "                        self.imageB.value=jpg.tobytes()\n",
    "                    if self.textFunc:\n",
    "                        self.text.value = self.textFunc()\n",
    "                else:\n",
    "                    pass\n",
    "            except Exception as error:\n",
    "                print('Error:',error)\n",
    "                self.layout.close()\n",
    "                break\n",
    "        print('Thread finished')\n",
    "\n",
    "    def close(self):\n",
    "        self.flag = False\n",
    "        self.layout.close()\n",
    "\n",
    "    def start(self):\n",
    "        self.flag = True\n",
    "        self.thread.start()"
   ]
  },
  {
   "cell_type": "markdown",
   "id": "c09b6b88",
   "metadata": {},
   "source": [
    "Definition einiger Funktionen und Verwendung mit der Klasse Display. Es werden nicht die selben Frames im Display dargestellt."
   ]
  },
  {
   "cell_type": "code",
   "execution_count": null,
   "id": "4c155c2f-9e11-4bed-aaad-37fa7a0d185f",
   "metadata": {
    "tags": []
   },
   "outputs": [],
   "source": [
    "cam = Camera(height = 380, width = 640)\n",
    "\n",
    "# 1.Funktion\n",
    "f = cam.get_frame # Übergabe der Referenz der Funktion cam.get_frame\n",
    "\n",
    "# 2.Funktion\n",
    "def g():\n",
    "    \n",
    "    frame = cam.get_frame()\n",
    "    h,w,c = frame.shape     \n",
    "    mask = cv2.Canny(frame,100,200)\n",
    "    mask_inv = cv2.bitwise_not(mask)\n",
    "    mask_bgr = cv2.cvtColor(mask,cv2.COLOR_GRAY2BGR)\n",
    "    frame2 = cv2.bitwise_and(frame,frame,mask = mask_inv)\n",
    "    frame3 = cv2.addWeighted(frame2,1,mask_bgr,1,0)\n",
    "    ih = int(.1*h)\n",
    "    frame3[:ih] = (frame3[:ih]/3)\n",
    "    frame3[-ih:] = (frame3[-ih:]/3)\n",
    "    return frame3\n",
    "\n",
    "# 3. Funktion für text\n",
    "def h():\n",
    "    return 'nothing to report'\n",
    "\n",
    "# Dem Konstruktor der Klasse Display werden zwei Funktionen übergeben.\n",
    "d = Display(f,g,h)"
   ]
  },
  {
   "cell_type": "code",
   "execution_count": null,
   "id": "8978d1b0-f94d-4d24-90cf-52e395e01722",
   "metadata": {
    "tags": []
   },
   "outputs": [],
   "source": [
    "print('end of cell')\n",
    "cam.release()"
   ]
  },
  {
   "cell_type": "markdown",
   "id": "51f4cca6",
   "metadata": {},
   "source": [
    "Verwendung der Klasse Display mit einem Objekt, dass verschieden Bilder per Methoden zurückliefert.\n",
    "Es werden verschiedene Varianten des gleichen Frames dargestellt."
   ]
  },
  {
   "cell_type": "code",
   "execution_count": null,
   "id": "9e735867",
   "metadata": {
    "tags": []
   },
   "outputs": [],
   "source": [
    "class MyObj:\n",
    "    def __init__(self):\n",
    "        self.__cam = Camera(height = 380, width = 640)\n",
    "        self.__last_frame = None\n",
    "        self.__transformer_function = lambda x: x\n",
    "        self.__counter = 0\n",
    "        \n",
    "    def get_frame(self):\n",
    "        self.__last_frame = self.__cam.get_frame()\n",
    "        self.__counter += 1\n",
    "        self.__last_frame_transformed = self.__transformer_function(self.__last_frame)\n",
    "        return self.__last_frame\n",
    "        \n",
    "    def get_last_transformed_frame(self):\n",
    "        return self.__last_frame_transformed\n",
    "    \n",
    "    def get_last_frame(self):\n",
    "        return self.__last_frame\n",
    "    \n",
    "    def get_counter(self):\n",
    "        return self.__counter\n",
    "    \n",
    "    def set_transformer(self,transformer_function):\n",
    "        self.__transformer_function = transformer_function\n",
    "        \n",
    "def my_transformer_to_gray(x):\n",
    "    return cv2.cvtColor(x,cv2.COLOR_BGR2GRAY)\n",
    "\n",
    "def my_transformer(frame):\n",
    "    _,w,_ = frame.shape\n",
    "    iw=int(w/2)\n",
    "    frame_canny = cv2.Canny(frame,100,200)\n",
    "    frame_canny_bgr = cv2.cvtColor(frame_canny,cv2.COLOR_GRAY2BGR)\n",
    "    frame_canny_bgr[:,-iw:]=frame[:,-iw:]\n",
    "    return frame_canny_bgr"
   ]
  },
  {
   "cell_type": "code",
   "execution_count": null,
   "id": "747a3a2d",
   "metadata": {
    "tags": []
   },
   "outputs": [],
   "source": [
    "myobj = MyObj()\n",
    "myobj.set_transformer(my_transformer)\n",
    "Display(myobj.get_frame, myobj.get_last_transformed_frame, lambda : str(myobj.get_counter()))"
   ]
  },
  {
   "cell_type": "code",
   "execution_count": null,
   "id": "17da00ab",
   "metadata": {},
   "outputs": [],
   "source": [
    "myobj.set_transformer(lambda x:x)"
   ]
  },
  {
   "cell_type": "code",
   "execution_count": null,
   "id": "6dac1505",
   "metadata": {},
   "outputs": [],
   "source": [
    "myobj.set_transformer(my_transformer)"
   ]
  },
  {
   "cell_type": "code",
   "execution_count": null,
   "id": "a25cd7c9-25e3-43bb-ba4e-bb21e19216de",
   "metadata": {
    "tags": []
   },
   "outputs": [],
   "source": [
    "cam.release()"
   ]
  },
  {
   "cell_type": "code",
   "execution_count": null,
   "id": "0282881c-fd17-459b-a389-68096fe1a9bb",
   "metadata": {},
   "outputs": [],
   "source": []
  }
 ],
 "metadata": {
  "kernelspec": {
   "display_name": "Python 3 (ipykernel)",
   "language": "python",
   "name": "python3"
  },
  "language_info": {
   "codemirror_mode": {
    "name": "ipython",
    "version": 3
   },
   "file_extension": ".py",
   "mimetype": "text/x-python",
   "name": "python",
   "nbconvert_exporter": "python",
   "pygments_lexer": "ipython3",
   "version": "3.7.3"
  }
 },
 "nbformat": 4,
 "nbformat_minor": 5
}
